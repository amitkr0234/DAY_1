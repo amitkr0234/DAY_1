{
  "nbformat": 4,
  "nbformat_minor": 0,
  "metadata": {
    "colab": {
      "provenance": [],
      "authorship_tag": "ABX9TyMl7gG+7sSXPCW2MI+WDTi0",
      "include_colab_link": true
    },
    "kernelspec": {
      "name": "python3",
      "display_name": "Python 3"
    },
    "language_info": {
      "name": "python"
    }
  },
  "cells": [
    {
      "cell_type": "markdown",
      "metadata": {
        "id": "view-in-github",
        "colab_type": "text"
      },
      "source": [
        "<a href=\"https://colab.research.google.com/github/amitkr0234/DAY_1/blob/main/first.ipynb\" target=\"_parent\"><img src=\"https://colab.research.google.com/assets/colab-badge.svg\" alt=\"Open In Colab\"/></a>"
      ]
    },
    {
      "cell_type": "code",
      "execution_count": 1,
      "metadata": {
        "id": "bjNpVg9UCBBb",
        "colab": {
          "base_uri": "https://localhost:8080/"
        },
        "outputId": "fc4e05a9-bac7-4623-c559-fa9f03854180"
      },
      "outputs": [
        {
          "output_type": "stream",
          "name": "stdout",
          "text": [
            "dnjlvfikejudfe\n"
          ]
        }
      ],
      "source": [
        "print(\"dnjlvfikejudfe\")"
      ]
    }
  ]
}